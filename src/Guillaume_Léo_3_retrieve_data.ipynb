{
 "cells": [
  {
   "cell_type": "markdown",
   "id": "e9cf8c01",
   "metadata": {},
   "source": [
    "# Préambule"
   ]
  },
  {
   "cell_type": "markdown",
   "id": "5e36d0b6",
   "metadata": {},
   "source": [
    "A des fins d'évaluation les données générées (features et predictions) hébergé sur les serveurs du service Google Cloud Storage ont été extraites en local grâce à [CLI Google Cloud](https://cloud.google.com/sdk/docs), qui est un ensemble d'outils permettant de gérer les ressources et les applications hébergées sur Google Cloud en ligne de commande."
   ]
  },
  {
   "cell_type": "markdown",
   "id": "1d03c20c",
   "metadata": {},
   "source": [
    "# Librairies"
   ]
  },
  {
   "cell_type": "code",
   "execution_count": null,
   "id": "d17a06c5",
   "metadata": {},
   "outputs": [],
   "source": [
    "import pandas as pd\n",
    "import os"
   ]
  },
  {
   "cell_type": "markdown",
   "id": "51267e20",
   "metadata": {},
   "source": [
    "# Config"
   ]
  },
  {
   "cell_type": "code",
   "execution_count": 2,
   "id": "f1e55cdc",
   "metadata": {},
   "outputs": [],
   "source": [
    "STORAGE_PATH = '../data/fruits-classification'\n",
    "OUTPUT_PATH = '../Déployez_un_modèle_dans le cloud_Guillaume_Léo'"
   ]
  },
  {
   "cell_type": "markdown",
   "id": "3cae39e3",
   "metadata": {},
   "source": [
    "# Import data"
   ]
  },
  {
   "cell_type": "code",
   "execution_count": 3,
   "id": "570ae893",
   "metadata": {},
   "outputs": [
    {
     "name": "stdout",
     "output_type": "stream",
     "text": [
      "Number of files: 555\n"
     ]
    }
   ],
   "source": [
    "file_list = list()\n",
    "for root, dirs, files in os.walk(os.path.join(STORAGE_PATH, 'features')):\n",
    "    for file in files:\n",
    "        if file.endswith('.parquet'):\n",
    "            file_list.append(os.path.join(root, file))\n",
    "            \n",
    "print(f'Number of files: {len(file_list)}')"
   ]
  },
  {
   "cell_type": "code",
   "execution_count": 4,
   "id": "27b46f26",
   "metadata": {},
   "outputs": [
    {
     "name": "stdout",
     "output_type": "stream",
     "text": [
      "Dimension of data: (6676, 8)\n"
     ]
    }
   ],
   "source": [
    "stack_df = pd.concat([pd.read_parquet(file) for file in file_list], ignore_index=True)\n",
    "\n",
    "print(f'Dimension of data: {stack_df.shape}')"
   ]
  },
  {
   "cell_type": "code",
   "execution_count": 5,
   "id": "1594faf3",
   "metadata": {},
   "outputs": [],
   "source": [
    "# create feature that indicate the dataset (train, test or validation)\n",
    "stack_df['set'] = stack_df.path.apply(lambda x: x.split('/')[-3])"
   ]
  },
  {
   "cell_type": "code",
   "execution_count": 6,
   "id": "d1ec118c",
   "metadata": {},
   "outputs": [
    {
     "name": "stdout",
     "output_type": "stream",
     "text": [
      "Dimension of predictions data: (2140, 12)\n"
     ]
    }
   ],
   "source": [
    "file_list = [os.path.join(STORAGE_PATH, 'predictions', file) for file in os.listdir(os.path.join(STORAGE_PATH, 'predictions')) if file.endswith('.parquet')]\n",
    "stack_pred_df = pd.concat([pd.read_parquet(file) for file in file_list], ignore_index=True)\n",
    "\n",
    "print(f'Dimension of predictions data: {stack_pred_df.shape}')"
   ]
  },
  {
   "cell_type": "code",
   "execution_count": 7,
   "id": "5f36ce9c",
   "metadata": {},
   "outputs": [],
   "source": [
    "# add predictions\n",
    "stack_df = stack_df.merge(stack_pred_df[['path', 'prediction']], on='path', how='outer')"
   ]
  },
  {
   "cell_type": "markdown",
   "id": "3a8f4b1b",
   "metadata": {},
   "source": [
    "# Cleaning"
   ]
  },
  {
   "cell_type": "code",
   "execution_count": 8,
   "id": "9ca53191",
   "metadata": {},
   "outputs": [],
   "source": [
    "# convert prediction index to label\n",
    "labelIndex = dict(stack_df[['labelIndex', 'label']].drop_duplicates().values)\n",
    "stack_df.prediction = stack_df.prediction.apply(lambda x: labelIndex[x] if not pd.isnull(x) else x)"
   ]
  },
  {
   "cell_type": "code",
   "execution_count": 12,
   "id": "cabc6c57",
   "metadata": {},
   "outputs": [
    {
     "data": {
      "text/html": [
       "<div>\n",
       "<style scoped>\n",
       "    .dataframe tbody tr th:only-of-type {\n",
       "        vertical-align: middle;\n",
       "    }\n",
       "\n",
       "    .dataframe tbody tr th {\n",
       "        vertical-align: top;\n",
       "    }\n",
       "\n",
       "    .dataframe thead th {\n",
       "        text-align: right;\n",
       "    }\n",
       "</style>\n",
       "<table border=\"1\" class=\"dataframe\">\n",
       "  <thead>\n",
       "    <tr style=\"text-align: right;\">\n",
       "      <th></th>\n",
       "      <th>label</th>\n",
       "      <th>features</th>\n",
       "    </tr>\n",
       "  </thead>\n",
       "  <tbody>\n",
       "    <tr>\n",
       "      <th>5977</th>\n",
       "      <td>apple</td>\n",
       "      <td>[0.0, 0.12709525, 0.0, 2.9404461, 0.0, 0.0, 4....</td>\n",
       "    </tr>\n",
       "    <tr>\n",
       "      <th>5083</th>\n",
       "      <td>cabbage</td>\n",
       "      <td>[0.0, 0.0, 0.0, 0.1813078, 0.0, 0.0, 0.4224908...</td>\n",
       "    </tr>\n",
       "    <tr>\n",
       "      <th>4982</th>\n",
       "      <td>eggplant</td>\n",
       "      <td>[0.0, 0.0, 1.6811758, 0.0, 0.0, 0.98431325, 0....</td>\n",
       "    </tr>\n",
       "    <tr>\n",
       "      <th>5675</th>\n",
       "      <td>apple</td>\n",
       "      <td>[0.0, 0.0, 0.0, 0.0, 0.0, 0.0, 1.1742842, 0.0,...</td>\n",
       "    </tr>\n",
       "    <tr>\n",
       "      <th>818</th>\n",
       "      <td>apple</td>\n",
       "      <td>[0.0, 0.0, 0.0, 0.0, 0.0, 0.0, 0.0, 0.0, 0.0, ...</td>\n",
       "    </tr>\n",
       "  </tbody>\n",
       "</table>\n",
       "</div>"
      ],
      "text/plain": [
       "         label                                           features\n",
       "5977     apple  [0.0, 0.12709525, 0.0, 2.9404461, 0.0, 0.0, 4....\n",
       "5083   cabbage  [0.0, 0.0, 0.0, 0.1813078, 0.0, 0.0, 0.4224908...\n",
       "4982  eggplant  [0.0, 0.0, 1.6811758, 0.0, 0.0, 0.98431325, 0....\n",
       "5675     apple  [0.0, 0.0, 0.0, 0.0, 0.0, 0.0, 1.1742842, 0.0,...\n",
       "818      apple  [0.0, 0.0, 0.0, 0.0, 0.0, 0.0, 0.0, 0.0, 0.0, ..."
      ]
     },
     "execution_count": 12,
     "metadata": {},
     "output_type": "execute_result"
    }
   ],
   "source": [
    "stack_df[['label', 'features']].sample(5)"
   ]
  },
  {
   "cell_type": "markdown",
   "id": "c157abb1",
   "metadata": {},
   "source": [
    "# Saving"
   ]
  },
  {
   "cell_type": "code",
   "execution_count": 10,
   "id": "d3951ce6",
   "metadata": {},
   "outputs": [],
   "source": [
    "# writing data in csv\n",
    "stack_df.to_csv(\n",
    "    path_or_buf = os.path.join(OUTPUT_PATH, 'features_data.csv'),\n",
    "    columns = ['path', 'set', 'label', 'prediction', 'features', 'pca_features'],\n",
    "    index = False)"
   ]
  }
 ],
 "metadata": {
  "kernelspec": {
   "display_name": "Python 3 (ipykernel)",
   "language": "python",
   "name": "python3"
  },
  "language_info": {
   "codemirror_mode": {
    "name": "ipython",
    "version": 3
   },
   "file_extension": ".py",
   "mimetype": "text/x-python",
   "name": "python",
   "nbconvert_exporter": "python",
   "pygments_lexer": "ipython3",
   "version": "3.9.10"
  },
  "toc": {
   "base_numbering": 1,
   "nav_menu": {},
   "number_sections": true,
   "sideBar": true,
   "skip_h1_title": false,
   "title_cell": "Table of Contents",
   "title_sidebar": "Contents",
   "toc_cell": false,
   "toc_position": {},
   "toc_section_display": true,
   "toc_window_display": false
  }
 },
 "nbformat": 4,
 "nbformat_minor": 5
}
