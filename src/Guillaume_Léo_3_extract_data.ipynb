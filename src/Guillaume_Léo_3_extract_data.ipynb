{
 "cells": [
  {
   "cell_type": "markdown",
   "id": "3f93163a",
   "metadata": {},
   "source": [
    "A des fins d'évaluation les données générées (features et predictions) hébergé sur les serveurs du service Google Cloud Storage ont été extraites en local grâce à [CLI Google Cloud](https://cloud.google.com/sdk/docs), qui est un ensemble d'outils permettant de gérer les ressources et les applications hébergées sur Google Cloud en ligne de commande."
   ]
  },
  {
   "cell_type": "code",
   "execution_count": 1,
   "id": "e5933827",
   "metadata": {},
   "outputs": [],
   "source": [
    "import pandas as pd\n",
    "import os"
   ]
  },
  {
   "cell_type": "code",
   "execution_count": 2,
   "id": "f1f4baad",
   "metadata": {},
   "outputs": [],
   "source": [
    "STORAGE_PATH = '../data/fruits-classification'\n",
    "OUTPUT_PATH = '../Déployez_un_modèle_dans le cloud_Guillaume_Léo'"
   ]
  },
  {
   "cell_type": "code",
   "execution_count": 3,
   "id": "5c75c200",
   "metadata": {},
   "outputs": [
    {
     "name": "stdout",
     "output_type": "stream",
     "text": [
      "Number of files: 555\n"
     ]
    }
   ],
   "source": [
    "file_list = list()\n",
    "for root, dirs, files in os.walk(os.path.join(STORAGE_PATH, 'features')):\n",
    "    for file in files:\n",
    "        if file.endswith('.parquet'):\n",
    "            file_list.append(os.path.join(root, file))\n",
    "            \n",
    "print(f'Number of files: {len(file_list)}')"
   ]
  },
  {
   "cell_type": "code",
   "execution_count": 4,
   "id": "eb040e9a",
   "metadata": {},
   "outputs": [
    {
     "name": "stdout",
     "output_type": "stream",
     "text": [
      "Dimension of data: (6676, 8)\n"
     ]
    }
   ],
   "source": [
    "stack_df = pd.concat([pd.read_parquet(file) for file in file_list], ignore_index=True)\n",
    "\n",
    "print(f'Dimension of data: {stack_df.shape}')"
   ]
  },
  {
   "cell_type": "code",
   "execution_count": 5,
   "id": "fa2d4c93",
   "metadata": {},
   "outputs": [],
   "source": [
    "# create feature that indicate the dataset (train, test or validation)\n",
    "stack_df['set'] = stack_df.path.apply(lambda x: x.split('/')[-3])"
   ]
  },
  {
   "cell_type": "code",
   "execution_count": 6,
   "id": "70f1ebbc",
   "metadata": {},
   "outputs": [
    {
     "name": "stdout",
     "output_type": "stream",
     "text": [
      "Dimension of predictions data: (2140, 12)\n"
     ]
    }
   ],
   "source": [
    "file_list = [os.path.join(STORAGE_PATH, 'predictions', file) for file in os.listdir(os.path.join(STORAGE_PATH, 'predictions')) if file.endswith('.parquet')]\n",
    "stack_pred_df = pd.concat([pd.read_parquet(file) for file in file_list], ignore_index=True)\n",
    "\n",
    "print(f'Dimension of predictions data: {stack_pred_df.shape}')"
   ]
  },
  {
   "cell_type": "code",
   "execution_count": 7,
   "id": "46fcfec7",
   "metadata": {},
   "outputs": [],
   "source": [
    "# add predictions\n",
    "stack_df = stack_df.merge(stack_pred_df[['path', 'prediction']], on='path', how='outer')"
   ]
  },
  {
   "cell_type": "code",
   "execution_count": 8,
   "id": "7516abf4",
   "metadata": {},
   "outputs": [],
   "source": [
    "# convert prediction index to label\n",
    "labelIndex = dict(stack_df[['labelIndex', 'label']].drop_duplicates().values)\n",
    "stack_df.prediction = stack_df.prediction.apply(lambda x: labelIndex[x] if not pd.isnull(x) else x)"
   ]
  },
  {
   "cell_type": "code",
   "execution_count": 10,
   "id": "c616e730",
   "metadata": {},
   "outputs": [],
   "source": [
    "# writing data in csv\n",
    "stack_df.to_csv(\n",
    "    path_or_buf = os.path.join(OUTPUT_PATH, 'Guillaume_Léo_4_features_data'),\n",
    "    columns = ['path', 'set', 'label', 'prediction', 'features', 'pca_features'],\n",
    "    index = False)"
   ]
  }
 ],
 "metadata": {
  "kernelspec": {
   "display_name": "Python 3 (ipykernel)",
   "language": "python",
   "name": "python3"
  },
  "language_info": {
   "codemirror_mode": {
    "name": "ipython",
    "version": 3
   },
   "file_extension": ".py",
   "mimetype": "text/x-python",
   "name": "python",
   "nbconvert_exporter": "python",
   "pygments_lexer": "ipython3",
   "version": "3.9.10"
  },
  "toc": {
   "base_numbering": 1,
   "nav_menu": {},
   "number_sections": true,
   "sideBar": true,
   "skip_h1_title": false,
   "title_cell": "Table of Contents",
   "title_sidebar": "Contents",
   "toc_cell": false,
   "toc_position": {},
   "toc_section_display": true,
   "toc_window_display": false
  }
 },
 "nbformat": 4,
 "nbformat_minor": 5
}
